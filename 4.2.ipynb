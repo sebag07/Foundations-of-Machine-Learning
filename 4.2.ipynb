{
 "cells": [
  {
   "cell_type": "code",
   "execution_count": 44,
   "metadata": {},
   "outputs": [],
   "source": [
    "# To support both python 2 and python 3\n",
    "from __future__ import division, print_function, unicode_literals\n",
    "\n",
    "\n",
    "\n",
    "%matplotlib inline \n",
    "import numpy as np\n",
    "import matplotlib.pyplot as plt\n",
    "# These steps are typically always called.  The \"matplotlib inline\" is to display figures in this notebook itself \n",
    "\n",
    "\n",
    "import pandas as pd \n",
    "# pandas is a library for handling datasets; you will see some useful built-in functions in action\n",
    "\n",
    "import os # to move around your operating system\n",
    "\n",
    "import scipy as sp  # scientific computation library\n",
    "\n",
    "from mpl_toolkits.mplot3d import axes3d # in case we need to plot in 3D z=f(x,y)\n",
    "import seaborn as sns  # another package for pretty graphs\n",
    "\n",
    "# Scikit-learn (sklearn) is a powerful and fairly comprehensive library of ML algorithms\n",
    "\n",
    "from sklearn import datasets\n",
    "from sklearn.neighbors.kde import KernelDensity\n",
    "from sklearn import linear_model"
   ]
  },
  {
   "cell_type": "code",
   "execution_count": 76,
   "metadata": {},
   "outputs": [
    {
     "name": "stdout",
     "output_type": "stream",
     "text": [
      "     0    1    2    3            4\n",
      "0  5.1  3.5  1.4  0.2  Iris-setosa\n",
      "1  4.9  3.0  1.4  0.2  Iris-setosa\n",
      "2  4.7  3.2  1.3  0.2  Iris-setosa\n",
      "3  4.6  3.1  1.5  0.2  Iris-setosa\n",
      "4  5.0  3.6  1.4  0.2  Iris-setosa\n"
     ]
    }
   ],
   "source": [
    "from sklearn import datasets\n",
    "from sklearn.metrics import mean_squared_error, r2_score\n",
    "\n",
    "df = pd.read_csv('iris.data', header=None)\n",
    "df.head()\n",
    "\n",
    "columns=['sepal length', 'sepal width', 'petal width', 'petal length']\n",
    "\n",
    "classes = np.unique(df[4].values).tolist()\n",
    "classes"
   ]
  },
  {
   "cell_type": "code",
   "execution_count": 49,
   "metadata": {},
   "outputs": [],
   "source": [
    "# d_class[0] is class iris-setosa\n",
    "# d_class[1] is class iris-versicolor\n",
    "# d_class[2] is class iris-virginica\n",
    "data_class = {0: df[df[4] == 'Iris-setosa']._get_numeric_data(),\n",
    "           1: df[df[4] == 'Iris-versicolor']._get_numeric_data(),\n",
    "           2: df[df[4] == 'Iris-virginica']._get_numeric_data()}\n",
    "\n",
    "data_class[1].index=range(0,len(d_class[1]))\n",
    "data_class[2].index=range(0,len(d_class[2]))\n",
    "\n",
    "def classMean(setosa, versicolor, virginica):\n",
    "    meanClass = []\n",
    "    for i in range(4):\n",
    "         meanClass.insert(i, (setosa[i]+versicolor[i]+virginica[i])/3)\n",
    "    \n",
    "    return meanClass\n"
   ]
  },
  {
   "cell_type": "code",
   "execution_count": 65,
   "metadata": {},
   "outputs": [],
   "source": [
    "data={k: np.array([list(d_class[k].loc[i,: ]) for i in range(50)]) for k in range(3)}"
   ]
  },
  {
   "cell_type": "code",
   "execution_count": 66,
   "metadata": {},
   "outputs": [
    {
     "data": {
      "text/plain": [
       "[array([5.006, 3.418, 1.464, 0.244]),\n",
       " array([5.936, 2.77 , 4.26 , 1.326]),\n",
       " array([6.588, 2.974, 5.552, 2.026])]"
      ]
     },
     "execution_count": 66,
     "metadata": {},
     "output_type": "execute_result"
    }
   ],
   "source": [
    "for i in range(3):\n",
    "    Smean[i]= np.mean(data[i], axis=0)\n",
    "    \n",
    "Smean"
   ]
  },
  {
   "cell_type": "code",
   "execution_count": 67,
   "metadata": {},
   "outputs": [
    {
     "data": {
      "text/plain": [
       "array([5.84333333, 3.054     , 3.75866667, 1.19866667])"
      ]
     },
     "execution_count": 67,
     "metadata": {},
     "output_type": "execute_result"
    }
   ],
   "source": [
    "meanMean = np.mean(np.array(Smean), axis=0)\n",
    "meanMean"
   ]
  },
  {
   "cell_type": "code",
   "execution_count": 70,
   "metadata": {},
   "outputs": [
    {
     "name": "stdout",
     "output_type": "stream",
     "text": [
      "[[ 1.26424267 -0.39068     3.30329333  1.42726133]\n",
      " [-0.39068     0.219552   -1.121104   -0.449848  ]\n",
      " [ 3.30329333 -1.121104    8.73287467  3.73816267]\n",
      " [ 1.42726133 -0.449848    3.73816267  1.61208267]]\n"
     ]
    }
   ],
   "source": [
    "def covariance_mean(Smean, mean):\n",
    "    s = mean.shape[0]\n",
    "    \n",
    "    return np.dot((Smean - mean).reshape(s,1), (Smean - mean).reshape(1,s))\n",
    "\n",
    "SB = np.zeros((4,4))\n",
    "for k in range(3):\n",
    "    SB+= covariance_mean(Smean[k], meanMean)\n",
    "    \n",
    "print(SB)"
   ]
  },
  {
   "cell_type": "code",
   "execution_count": 71,
   "metadata": {},
   "outputs": [
    {
     "name": "stdout",
     "output_type": "stream",
     "text": [
      "[[38.9562 13.683  24.614   5.6556]\n",
      " [13.683  17.035   8.12    4.9132]\n",
      " [24.614   8.12   27.22    6.2536]\n",
      " [ 5.6556  4.9132  6.2536  6.1756]]\n"
     ]
    }
   ],
   "source": [
    "iris_setosa = data[0]\n",
    "iris_versicolor = data[1]\n",
    "iris_virginica = data[2]\n",
    "\n",
    "\n",
    "def calculateCovariance(data, Smean, k):\n",
    "    covariance = np.zeros((4, 4))\n",
    "    for i in range(data.shape[0]):\n",
    "        covariance+= ((data[i,:] - Smean[k]).reshape(4, 1).dot((data[i,:] - Smean[k]).reshape(1, 4)))\n",
    "        \n",
    "    return covariance\n",
    "\n",
    "covarianceSetosa = calculateCovariance(iris_setosa, Smean, 0)\n",
    "covarianceVersicolor = calculateCovariance(iris_versicolor, Smean, 1)\n",
    "covarianceVirginica = calculateCovariance(iris_virginica, Smean, 2)\n",
    "\n",
    "SW = covarianceSetosa + covarianceVersicolor + covarianceVirginica\n",
    "\n",
    "print(SW)"
   ]
  },
  {
   "cell_type": "code",
   "execution_count": 73,
   "metadata": {},
   "outputs": [
    {
     "data": {
      "text/plain": [
       "22069.109168675746"
      ]
     },
     "execution_count": 73,
     "metadata": {},
     "output_type": "execute_result"
    }
   ],
   "source": [
    "# generalized eigenvalue problem Sb*v = lambda*Sw*v\n",
    "det = np.linalg.det(SW)\n",
    "det"
   ]
  },
  {
   "cell_type": "markdown",
   "metadata": {},
   "source": [
    "SW is invertible which means:  \n",
    "\\begin{equation*}\n",
    "S_W^{-1} S_B :  S_W^{-1} S_B v = λv .\n",
    "\\end{equation*}"
   ]
  },
  {
   "cell_type": "code",
   "execution_count": 77,
   "metadata": {},
   "outputs": [
    {
     "name": "stdout",
     "output_type": "stream",
     "text": [
      "[[-0.06049419  0.02097089 -0.16037413 -0.06849721]\n",
      " [-0.1124181   0.04304984 -0.3021683  -0.12765321]\n",
      " [ 0.16057915 -0.05730874  0.42737317  0.18196891]\n",
      " [ 0.21334399 -0.06826502  0.5598107   0.24106167]]\n"
     ]
    }
   ],
   "source": [
    "P=np.dot(np.linalg.inv(SW), SB)\n",
    "print(P)\n",
    "lam, V = np.linalg.eigh(P)"
   ]
  },
  {
   "cell_type": "markdown",
   "metadata": {},
   "source": [
    "P has the eigenvalues"
   ]
  },
  {
   "cell_type": "code",
   "execution_count": 78,
   "metadata": {},
   "outputs": [
    {
     "data": {
      "text/plain": [
       "array([-0.26024645, -0.14268993,  0.07235097,  0.9815759 ])"
      ]
     },
     "execution_count": 78,
     "metadata": {},
     "output_type": "execute_result"
    }
   ],
   "source": [
    "lam"
   ]
  },
  {
   "cell_type": "markdown",
   "metadata": {},
   "source": [
    "and the corresponding eigenvectors are the column in the numpy array V."
   ]
  },
  {
   "cell_type": "code",
   "execution_count": 79,
   "metadata": {},
   "outputs": [
    {
     "data": {
      "text/plain": [
       "array([[ 0.43122748,  0.77595698, -0.38420452,  0.25361489],\n",
       "       [ 0.08952333,  0.43033621,  0.89010784, -0.12043398],\n",
       "       [ 0.50890581, -0.40027793,  0.24019528,  0.72325561],\n",
       "       [-0.73962376,  0.22908315,  0.04900146,  0.63093301]])"
      ]
     },
     "execution_count": 79,
     "metadata": {},
     "output_type": "execute_result"
    }
   ],
   "source": [
    "V"
   ]
  },
  {
   "cell_type": "markdown",
   "metadata": {},
   "source": [
    "Get the position of the maximal eigenvalue"
   ]
  },
  {
   "cell_type": "code",
   "execution_count": 80,
   "metadata": {},
   "outputs": [],
   "source": [
    "maxValue = np.argmax(lam)"
   ]
  },
  {
   "cell_type": "code",
   "execution_count": 81,
   "metadata": {},
   "outputs": [
    {
     "data": {
      "text/plain": [
       "0.9999999999999999"
      ]
     },
     "execution_count": 81,
     "metadata": {},
     "output_type": "execute_result"
    }
   ],
   "source": [
    "w = V[:, maxValue]\n",
    "np.linalg.norm(w)"
   ]
  },
  {
   "cell_type": "code",
   "execution_count": 82,
   "metadata": {},
   "outputs": [
    {
     "data": {
      "text/plain": [
       "array([ 0.25361489, -0.12043398,  0.72325561,  0.63093301])"
      ]
     },
     "execution_count": 82,
     "metadata": {},
     "output_type": "execute_result"
    }
   ],
   "source": [
    "w"
   ]
  },
  {
   "cell_type": "code",
   "execution_count": 83,
   "metadata": {},
   "outputs": [],
   "source": [
    "def project_data(data, v):\n",
    "   \n",
    "    w=v/np.linalg.norm(v)\n",
    "    coord_pr_data=data.dot(w)# w^T x with x in data\n",
    "    \n",
    "    return coord_pr_data"
   ]
  },
  {
   "cell_type": "code",
   "execution_count": 84,
   "metadata": {},
   "outputs": [],
   "source": [
    "project_data0 = project_data(data[0], w)\n",
    "project_data1 = project_data(data[1], w)\n",
    "project_data2 = project_data(data[2], w)"
   ]
  },
  {
   "cell_type": "code",
   "execution_count": 103,
   "metadata": {},
   "outputs": [
    {
     "data": {
      "image/png": "[encoded data removed]",
      "text/plain": [
       "<Figure size 576x288 with 1 Axes>"
      ]
     },
     "metadata": {
      "needs_background": "light"
     },
     "output_type": "display_data"
    }
   ],
   "source": [
    "fig = plt.figure(figsize=(8, 4))\n",
    "ax = fig.add_subplot(111)\n",
    "h0 = ax.hist(project_data0, bins=5, density=True, color='r', ec='black', label=classes[0])\n",
    "h1 = ax.hist(project_data1, bins=15, density=True, color='g', ec='black', label=classes[1])\n",
    "h2 = ax.hist(project_data2, bins=15, density=True, color='b', ec='black', label=classes[2])\n",
    "ax.set_title(\"Histograms of the projected iris data onto w*\")\n",
    "leg=ax.legend(loc='upper right')"
   ]
  },
  {
   "cell_type": "code",
   "execution_count": 95,
   "metadata": {},
   "outputs": [
    {
     "data": {
      "text/plain": [
       "array([-0.26024645, -0.14268993,  0.07235097,  0.9815759 ])"
      ]
     },
     "execution_count": 95,
     "metadata": {},
     "output_type": "execute_result"
    }
   ],
   "source": [
    "lam"
   ]
  },
  {
   "cell_type": "code",
   "execution_count": 96,
   "metadata": {},
   "outputs": [
    {
     "data": {
      "text/plain": [
       "array([[ 0.43122748,  0.77595698, -0.38420452,  0.25361489],\n",
       "       [ 0.08952333,  0.43033621,  0.89010784, -0.12043398],\n",
       "       [ 0.50890581, -0.40027793,  0.24019528,  0.72325561],\n",
       "       [-0.73962376,  0.22908315,  0.04900146,  0.63093301]])"
      ]
     },
     "execution_count": 96,
     "metadata": {},
     "output_type": "execute_result"
    }
   ],
   "source": [
    "V"
   ]
  },
  {
   "cell_type": "code",
   "execution_count": 97,
   "metadata": {},
   "outputs": [
    {
     "data": {
      "text/plain": [
       "array([ 0.77595698,  0.43033621, -0.40027793,  0.22908315])"
      ]
     },
     "execution_count": 97,
     "metadata": {},
     "output_type": "execute_result"
    }
   ],
   "source": [
    "a = V[:, 1]\n",
    "a"
   ]
  },
  {
   "cell_type": "code",
   "execution_count": 98,
   "metadata": {},
   "outputs": [
    {
     "data": {
      "text/plain": [
       "array([1.02957187, 0.30990223, 0.32297768, 0.86001616])"
      ]
     },
     "execution_count": 98,
     "metadata": {},
     "output_type": "execute_result"
    }
   ],
   "source": [
    "unoptimalW = np.add(w, a)\n",
    "unoptimalW"
   ]
  },
  {
   "cell_type": "code",
   "execution_count": 99,
   "metadata": {},
   "outputs": [],
   "source": [
    "proj_data_unoptimalW0 = project_data(data[0], unoptimalW)\n",
    "proj_data_unoptimalW1 = project_data(data[1], unoptimalW)\n",
    "proj_data_unoptimalW2 = project_data(data[2], unoptimalW)"
   ]
  },
  {
   "cell_type": "code",
   "execution_count": 100,
   "metadata": {},
   "outputs": [
    {
     "data": {
      "image/png": "[encoded data removed]",
      "text/plain": [
       "<Figure size 576x288 with 1 Axes>"
      ]
     },
     "metadata": {
      "needs_background": "light"
     },
     "output_type": "display_data"
    }
   ],
   "source": [
    "fig = plt.figure(figsize=(8, 4))\n",
    "ax = fig.add_subplot(111) \n",
    "h0 = ax.hist(proj_data_unoptimalW0, bins=5, density=True, color='r', ec='black', label=classes[0])\n",
    "h1 = ax.hist(proj_data_unoptimalW1, bins=15, density=True, color='g', ec='black', label=classes[1])\n",
    "h2 = ax.hist(proj_data_unoptimalW2, bins=15, density=True, color='b', ec='black', label=classes[2])\n",
    "ax.set_title(\"Histograms of the projected data onto w = w∗ + a\")\n",
    "leg=ax.legend(loc='upper right')"
   ]
  },
  {
   "cell_type": "code",
   "execution_count": 101,
   "metadata": {},
   "outputs": [],
   "source": [
    "project_data_a0 = project_data(data[0], a)\n",
    "project_data_a1 = project_data(data[1], a)\n",
    "project_data_a2 = project_data(data[2], a)"
   ]
  },
  {
   "cell_type": "code",
   "execution_count": 102,
   "metadata": {},
   "outputs": [
    {
     "data": {
      "image/png": "[encoded data removed]",
      "text/plain": [
       "<Figure size 576x288 with 1 Axes>"
      ]
     },
     "metadata": {
      "needs_background": "light"
     },
     "output_type": "display_data"
    }
   ],
   "source": [
    "fig = plt.figure(figsize=(8, 4))\n",
    "ax = fig.add_subplot(111)\n",
    "h0 = ax.hist(project_data_a0, bins=5, density=True, color='r', ec='black', label=classes[0])\n",
    "h1 = ax.hist(project_data_a1, bins=15, density=True, color='g', ec='black', label=classes[1])\n",
    "h2 = ax.hist(project_data_a2, bins=15, density=True, color='b', ec='black', label=classes[2])\n",
    "ax.set_title(\"Histogram of projected data onto another eigenvector\")\n",
    "leg=ax.legend(loc='upper right')"
   ]
  },
  {
   "cell_type": "code",
   "execution_count": null,
   "metadata": {},
   "outputs": [],
   "source": []
  },
  {
   "cell_type": "code",
   "execution_count": null,
   "metadata": {},
   "outputs": [],
   "source": []
  }
 ],
 "metadata": {
  "kernelspec": {
   "display_name": "Python 3",
   "language": "python",
   "name": "python3"
  },
  "language_info": {
   "codemirror_mode": {
    "name": "ipython",
    "version": 3
   },
   "file_extension": ".py",
   "mimetype": "text/x-python",
   "name": "python",
   "nbconvert_exporter": "python",
   "pygments_lexer": "ipython3",
   "version": "3.7.0"
  }
 },
 "nbformat": 4,
 "nbformat_minor": 2
}
